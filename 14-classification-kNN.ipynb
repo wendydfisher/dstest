{
 "cells": [
  {
   "cell_type": "markdown",
   "metadata": {
    "collapsed": true,
    "slideshow": {
     "slide_type": "slide"
    }
   },
   "source": [
    "##### CSCI 303\n",
    "# Introduction to Data Science\n",
    "<p/>\n",
    "### 14 - Classification-kNN\n",
    "\n",
    "![knn classification](knn_class.png) "
   ]
  },
  {
   "cell_type": "markdown",
   "metadata": {
    "slideshow": {
     "slide_type": "slide"
    }
   },
   "source": [
    "## This Lecture\n",
    "---\n",
    "- Classification concepts\n",
    "- *k*-Nearest Neighbor Classification"
   ]
  },
  {
   "cell_type": "markdown",
   "metadata": {
    "slideshow": {
     "slide_type": "slide"
    }
   },
   "source": [
    "## Setup\n",
    "---"
   ]
  },
  {
   "cell_type": "code",
   "execution_count": 1,
   "metadata": {},
   "outputs": [],
   "source": [
    "import numpy as np\n",
    "import pandas as pd\n",
    "import matplotlib.pyplot as plt\n",
    "import sklearn as sk\n",
    "\n",
    "from scipy.stats import norm\n",
    "from pandas import Series, DataFrame\n",
    "from sklearn.model_selection import train_test_split\n",
    "from matplotlib.colors import ListedColormap\n",
    "\n",
    "plt.style.use('ggplot')\n",
    "\n",
    "%matplotlib inline"
   ]
  },
  {
   "cell_type": "markdown",
   "metadata": {
    "slideshow": {
     "slide_type": "slide"
    }
   },
   "source": [
    "## Recall: Machine (or Statistical) Learning\n",
    "---\n",
    "- Learning structure and relationships in data\n",
    "- Supervised learning\n",
    "  - Goal is predicting outputs based on inputs\n",
    "  - Learn from labeled exemplar data\n",
    "  - E.g., regression, classification\n",
    "- Unsupervised learning\n",
    "  - Goal is reveal hidden structure in the data\n",
    "  - Inputs but no labeled outputs\n",
    "  - E.g., clustering"
   ]
  },
  {
   "cell_type": "markdown",
   "metadata": {
    "slideshow": {
     "slide_type": "slide"
    }
   },
   "source": [
    "## Regression\n",
    "---\n",
    "...we've seen.  We'll return to regression in a later lecture to talk about other techniques.\n"
   ]
  },
  {
   "cell_type": "markdown",
   "metadata": {
    "slideshow": {
     "slide_type": "slide"
    }
   },
   "source": [
    "## Classification\n",
    "---\n",
    "In classification, we try to predict a **class label**, assigning points to groups.\n",
    "\n",
    "Our classification training data has the same kinds of inputs as in regression, but the *target* variable is discrete, not continuous.  \n",
    "(Inputs could be catgerical too, however. We'll see that eventually.)\n",
    "\n",
    "E.g., the training data might include features about a borrower's financial history, credit score, owning/renting history, etc.  The target might be an indicator on whether or not the borrower ultimately defaulted on their loan.\n",
    "\n",
    "The learning task is to find a *classifier* function which will let us predict future defaults given the same information about a potential borrower.  \n",
    "(Classification is sometimes regression in disguise. But with discretization at the end.)"
   ]
  },
  {
   "cell_type": "markdown",
   "metadata": {
    "slideshow": {
     "slide_type": "slide"
    }
   },
   "source": [
    "## Example Problem\n",
    "---\n",
    "As with regression, we'll start with an artificially generated problem.  Inputs will be points in a 2-D space, and targets will be classes simply labeled as 'a' and 'b'."
   ]
  },
  {
   "cell_type": "code",
   "execution_count": 2,
   "metadata": {
    "slideshow": {
     "slide_type": "subslide"
    }
   },
   "outputs": [],
   "source": [
    "# ensure repeatability of this notebook \n",
    "# (comment out for new results each run)\n",
    "np.random.seed(0)\n",
    "\n",
    "def f(X):\n",
    "    # 3 + 0.5X - X^2 + 0.15X^3\n",
    "    return 3 + 0.5 * X - X**2 + 0.15 * X**3 \n",
    "\n",
    "# convenience function for generating samples\n",
    "def sample(n, fn, limits, sigma):\n",
    "    \n",
    "    width = limits[1] - limits[0]\n",
    "    height = limits[3] - limits[2]\n",
    "    x = np.random.random(n) * width + limits[0]\n",
    "    y = np.random.random(n) * height + limits[2]\n",
    "    \n",
    "    s = y > fn(x)\n",
    "    p = norm.cdf(np.abs(y - fn(x)), scale = sigma) # assigns p with normally distributed values according to its CDF\n",
    "    r = np.random.random(n) # r is assigned n random variables from [0.0, 1.0).\n",
    "    \n",
    "    def assign(sign, prob, rnum):\n",
    "        if sign:\n",
    "            if rnum > prob:\n",
    "                return 'b'\n",
    "            else:\n",
    "                return 'a'\n",
    "        else:\n",
    "            if rnum > prob:\n",
    "                return 'a'\n",
    "            else:\n",
    "                return 'b'\n",
    "        \n",
    "    c = [assign(s[i], p[i], r[i]) for i in range(n)]\n",
    "    return DataFrame({'x' : x, 'y' : y, 'class' : c})\n",
    "    "
   ]
  },
  {
   "cell_type": "code",
   "execution_count": 3,
   "metadata": {
    "slideshow": {
     "slide_type": "subslide"
    }
   },
   "outputs": [
    {
     "data": {
      "image/png": "[encoded data removed]",
      "text/plain": [
       "<Figure size 432x288 with 1 Axes>"
      ]
     },
     "metadata": {},
     "output_type": "display_data"
    }
   ],
   "source": [
    "data = sample(100, f, [-5, 5, -25, 25], 5)\n",
    "train, test = train_test_split(data, test_size = 0.5)\n",
    "traina = train[train['class']=='a']\n",
    "trainb = train[train['class']=='b']\n",
    "plt.plot(traina['x'], traina['y'],'bs', label='class a')\n",
    "plt.plot(trainb['x'], trainb['y'],'r^', label='class b')\n",
    "plt.legend()\n",
    "plt.title('Training Data')\n",
    "plt.show()"
   ]
  },
  {
   "cell_type": "markdown",
   "metadata": {
    "collapsed": true,
    "slideshow": {
     "slide_type": "slide"
    }
   },
   "source": [
    "## *k*-Nearest Neighbor Classification\n",
    "---\n",
    "Suppose we get a new point we haven't seen before, class unknown.\n",
    "\n",
    "What class do we assign it to?\n",
    "\n",
    "One of the simplest techniques is *k-nearest neighbor* classification.\n",
    "\n",
    "Simply look at the *k* nearest points and take a majority vote on the class!"
   ]
  },
  {
   "cell_type": "markdown",
   "metadata": {
    "slideshow": {
     "slide_type": "subslide"
    }
   },
   "source": [
    "Let's try k-nearest neighbor on our example, using scikit-learn:"
   ]
  },
  {
   "cell_type": "code",
   "execution_count": 4,
   "metadata": {},
   "outputs": [
    {
     "data": {
      "text/plain": [
       "KNeighborsClassifier()"
      ]
     },
     "execution_count": 4,
     "metadata": {},
     "output_type": "execute_result"
    }
   ],
   "source": [
    "from sklearn import neighbors\n",
    "\n",
    "k = 5\n",
    "\n",
    "X = train[['x','y']]\n",
    "y = train['class']\n",
    "model = neighbors.KNeighborsClassifier(k)\n",
    "model.fit(X,y)\n",
    "#model.metric\n",
    "#model.p"
   ]
  },
  {
   "cell_type": "markdown",
   "metadata": {
    "slideshow": {
     "slide_type": "subslide"
    }
   },
   "source": [
    "Plotting the results is a bit tricky.  Here are a few approaches.\n",
    "\n",
    "First, we can apply the trained model to the test data, and plot the resulting points.  Correctly classified points will be shown as solid, misclassified points as bordered.  Colors and shapes will match the prediction (not the ground truth)."
   ]
  },
  {
   "cell_type": "code",
   "execution_count": 5,
   "metadata": {},
   "outputs": [],
   "source": [
    "def plot_predicted_1(model, test):\n",
    "    predicted = model.predict(test[['x','y']])\n",
    "    correct = test[test['class'] == predicted]\n",
    "    correcta = correct[correct['class'] == 'a']\n",
    "    correctb = correct[correct['class'] == 'b']\n",
    "    incorrect = test[test['class'] != predicted]\n",
    "    incorrecta = incorrect[incorrect['class'] == 'b']\n",
    "    incorrectb = incorrect[incorrect['class'] == 'a']\n",
    "    \n",
    "    plt.plot(correcta['x'], correcta['y'], 'bs', label='a')\n",
    "    plt.plot(correctb['x'], correctb['y'], 'r^', label='b')\n",
    "    plt.plot(incorrecta['x'], incorrecta['y'], 'bs', markerfacecolor='w', label='a (misclassified)')\n",
    "    plt.plot(incorrectb['x'], incorrectb['y'], 'r^', markerfacecolor='w', label='b (misclassified)')\n",
    "    plt.legend(loc='upper left', ncol=2, framealpha=1)\n",
    "    return predicted, incorrect"
   ]
  },
  {
   "cell_type": "code",
   "execution_count": 6,
   "metadata": {},
   "outputs": [
    {
     "data": {
      "image/png": "[encoded data removed]",
      "text/plain": [
       "<Figure size 432x288 with 1 Axes>"
      ]
     },
     "metadata": {},
     "output_type": "display_data"
    }
   ],
   "source": [
    "#data = sample(100, f, [-5, 5, -25, 25], 5)\n",
    "#train, test = train_test_split(data, test_size = 0.5)\n",
    "testa = test[test['class']=='a']\n",
    "testb = test[test['class']=='b']\n",
    "plt.plot(testa['x'], testa['y'],'bs', label='class a')\n",
    "plt.plot(testb['x'], testb['y'],'r^', label='class b')\n",
    "plt.legend()\n",
    "plt.title('Test Data')\n",
    "plt.show()"
   ]
  },
  {
   "cell_type": "code",
   "execution_count": 7,
   "metadata": {
    "slideshow": {
     "slide_type": "subslide"
    }
   },
   "outputs": [
    {
     "name": "stdout",
     "output_type": "stream",
     "text": [
      "           x          y class\n",
      "90 -1.814310  -5.088947     b\n",
      "79 -3.812723 -23.408054     a\n",
      "41 -0.629680  -6.621906     b\n",
      "81 -0.857370   6.073920     b\n",
      "10  2.917250  -2.643731     a\n",
      "25  1.399210   5.319661     b\n",
      "75 -4.608122 -13.803766     a\n",
      "['a' 'a' 'a' 'b' 'a' 'a' 'b' 'a' 'b' 'a' 'b' 'b' 'b' 'a' 'a' 'a' 'b' 'a'\n",
      " 'b' 'a' 'b' 'a' 'a' 'a' 'b' 'a' 'a' 'a' 'a' 'a' 'a' 'b' 'b' 'a' 'b' 'b'\n",
      " 'b' 'a' 'a' 'a' 'a' 'b' 'a' 'a' 'b' 'a' 'b' 'a' 'a' 'a']\n",
      "64    a\n",
      "78    a\n",
      "45    a\n",
      "32    b\n",
      "22    a\n",
      "90    b\n",
      "50    b\n",
      "15    a\n",
      "79    a\n",
      "16    a\n",
      "42    b\n",
      "52    b\n",
      "66    b\n",
      "11    a\n",
      "88    a\n",
      "17    a\n",
      "4     b\n",
      "41    b\n",
      "13    b\n",
      "87    a\n",
      "89    b\n",
      "81    b\n",
      "86    a\n",
      "67    a\n",
      "29    b\n",
      "14    a\n",
      "47    a\n",
      "34    a\n",
      "23    a\n",
      "65    a\n",
      "2     a\n",
      "72    b\n",
      "10    a\n",
      "25    b\n",
      "46    b\n",
      "71    b\n",
      "75    a\n",
      "37    a\n",
      "55    a\n",
      "49    a\n",
      "48    a\n",
      "92    b\n",
      "62    a\n",
      "85    a\n",
      "59    b\n",
      "5     a\n",
      "80    b\n",
      "95    a\n",
      "19    a\n",
      "57    a\n",
      "Name: class, dtype: object\n"
     ]
    },
    {
     "data": {
      "image/png": "[encoded data removed]",
      "text/plain": [
       "<Figure size 432x288 with 1 Axes>"
      ]
     },
     "metadata": {},
     "output_type": "display_data"
    }
   ],
   "source": [
    "predicted, incorrect = plot_predicted_1(model, test)\n",
    "print(incorrect)\n",
    "print(predicted)\n",
    "print(test['class'])"
   ]
  },
  {
   "cell_type": "markdown",
   "metadata": {
    "slideshow": {
     "slide_type": "subslide"
    }
   },
   "source": [
    "One problem with this plot is that it doesn't show us the original training data, so it can be difficult to see where the misclassifications came from.\n",
    "\n",
    "Another plot, harder to generate, shows us the \"decision boundary\" - the dividing line between classes."
   ]
  },
  {
   "cell_type": "code",
   "execution_count": 8,
   "metadata": {
    "slideshow": {
     "slide_type": "subslide"
    }
   },
   "outputs": [],
   "source": [
    "def plot_predicted_2(model, test):\n",
    "    #setup colormap using hex values for blue and red\n",
    "    cmap = ListedColormap(['#8888FF','#FF8888'])\n",
    "    \n",
    "    #set up for the axis ranges we want x values and y values\n",
    "    xmin, xmax, ymin, ymax = -5, 5, -25, 25\n",
    "    \n",
    "    #set up the grid for the contour ... create a rectangular grid out of an array of our x and y values. \n",
    "    #To create a rectangular grid, we need every combination of the x and y points using the grid_size.\n",
    "    grid_size = 0.1\n",
    "    xx, yy = np.meshgrid(np.arange(xmin, xmax, grid_size), \n",
    "                         np.arange(ymin, ymax, grid_size))\n",
    "    \n",
    "    #now find y_hat using the prediction function, ravel returns a flattened 1D array of the data in xx and yy\n",
    "    pp = model.predict(np.c_[xx.ravel(), yy.ravel()])\n",
    "    # pp = model.predict(np.stack((xx.flatten(), yy.flatten()), axis=1))\n",
    "    \n",
    "    #filling an arry for the plot function, this comprehension goes through the elements returned from the prediction\n",
    "    #filled with predicted a or be class labels; the first part is replacing all the a's with a 0 and the b's with 1\n",
    "    zz = np.array([{'a':0,'b':1}[ab] for ab in pp]) \n",
    "\n",
    "    #the reshape puts the zz array in the same shape as the xx aray, again so we can plot like shaped objects\n",
    "    zz = zz.reshape(xx.shape)\n",
    "    \n",
    "    #create a new figture, and plot it using the x, y - zz is the class labesl a=0, b=1 and the cmap is the blue or red\n",
    "    plt.figure()\n",
    "    plt.pcolormesh(xx, yy, zz, cmap = cmap)\n",
    "    \n",
    "    #this calls our other function as an overlay with the actual data points - comment it out and run it to see\n",
    "    plot_predicted_1(model, test)\n"
   ]
  },
  {
   "cell_type": "code",
   "execution_count": 9,
   "metadata": {
    "slideshow": {
     "slide_type": "subslide"
    }
   },
   "outputs": [
    {
     "data": {
      "image/png": "[encoded data removed]",
      "text/plain": [
       "<Figure size 432x288 with 1 Axes>"
      ]
     },
     "metadata": {},
     "output_type": "display_data"
    }
   ],
   "source": [
    "plot_predicted_2(model, test)\n",
    "plt.show()"
   ]
  },
  {
   "cell_type": "markdown",
   "metadata": {
    "slideshow": {
     "slide_type": "subslide"
    }
   },
   "source": [
    "Using the functions we wrote above, we can also plot all of the data, or just the training data:"
   ]
  },
  {
   "cell_type": "code",
   "execution_count": 10,
   "metadata": {},
   "outputs": [
    {
     "data": {
      "image/png": "[encoded data removed]",
      "text/plain": [
       "<Figure size 432x288 with 1 Axes>"
      ]
     },
     "metadata": {},
     "output_type": "display_data"
    }
   ],
   "source": [
    "plot_predicted_2(model, data)\n",
    "plt.show()"
   ]
  },
  {
   "cell_type": "markdown",
   "metadata": {
    "slideshow": {
     "slide_type": "slide"
    }
   },
   "source": [
    "## Model Complexity with *k*-Nearest Neighbors\n",
    "---\n",
    "Above we used k = 5 to train our model.  As we saw, this gave a fairly smooth decision boundary.\n",
    "\n",
    "What happens if we decrease or increase *k*?"
   ]
  },
  {
   "cell_type": "code",
   "execution_count": 11,
   "metadata": {
    "slideshow": {
     "slide_type": "subslide"
    }
   },
   "outputs": [
    {
     "data": {
      "image/png": "[encoded data removed]",
      "text/plain": [
       "<Figure size 432x288 with 1 Axes>"
      ]
     },
     "metadata": {},
     "output_type": "display_data"
    }
   ],
   "source": [
    "k = 1\n",
    "model = neighbors.KNeighborsClassifier(k)\n",
    "model.fit(train[['x','y']], train['class'])\n",
    "plot_predicted_2(model, test)\n",
    "# ax = plt.gca()\n",
    "# ax.axis([-25, 25, -25, 25])\n",
    "plt.show()"
   ]
  },
  {
   "cell_type": "code",
   "execution_count": 12,
   "metadata": {
    "slideshow": {
     "slide_type": "subslide"
    }
   },
   "outputs": [
    {
     "data": {
      "image/png": "[encoded data removed]",
      "text/plain": [
       "<Figure size 432x288 with 1 Axes>"
      ]
     },
     "metadata": {},
     "output_type": "display_data"
    }
   ],
   "source": [
    "k = 3\n",
    "model = neighbors.KNeighborsClassifier(k)\n",
    "model.fit(train[['x','y']], train['class'])\n",
    "plot_predicted_2(model, data)\n",
    "plt.show()"
   ]
  },
  {
   "cell_type": "code",
   "execution_count": 13,
   "metadata": {
    "slideshow": {
     "slide_type": "subslide"
    }
   },
   "outputs": [
    {
     "data": {
      "image/png": "[encoded data removed]",
      "text/plain": [
       "<Figure size 432x288 with 1 Axes>"
      ]
     },
     "metadata": {},
     "output_type": "display_data"
    }
   ],
   "source": [
    "k = 7\n",
    "model = neighbors.KNeighborsClassifier(k)\n",
    "model.fit(train[['x','y']], train['class'])\n",
    "plot_predicted_2(model, data)\n",
    "plt.show()"
   ]
  },
  {
   "cell_type": "code",
   "execution_count": 14,
   "metadata": {
    "slideshow": {
     "slide_type": "subslide"
    }
   },
   "outputs": [
    {
     "data": {
      "image/png": "[encoded data removed]",
      "text/plain": [
       "<Figure size 432x288 with 1 Axes>"
      ]
     },
     "metadata": {},
     "output_type": "display_data"
    }
   ],
   "source": [
    "k = 9\n",
    "model = neighbors.KNeighborsClassifier(k)\n",
    "model.fit(train[['x','y']], train['class'])\n",
    "plot_predicted_2(model, train)\n",
    "plt.show()"
   ]
  },
  {
   "cell_type": "code",
   "execution_count": 15,
   "metadata": {
    "slideshow": {
     "slide_type": "subslide"
    }
   },
   "outputs": [
    {
     "data": {
      "image/png": "[encoded data removed]",
      "text/plain": [
       "<Figure size 432x288 with 1 Axes>"
      ]
     },
     "metadata": {},
     "output_type": "display_data"
    }
   ],
   "source": [
    "k = 15\n",
    "model = neighbors.KNeighborsClassifier(k)\n",
    "model.fit(train[['x','y']], train['class'])\n",
    "plot_predicted_2(model, data)\n",
    "plt.show()"
   ]
  },
  {
   "cell_type": "code",
   "execution_count": 16,
   "metadata": {
    "slideshow": {
     "slide_type": "subslide"
    }
   },
   "outputs": [
    {
     "data": {
      "image/png": "[encoded data removed]",
      "text/plain": [
       "<Figure size 432x288 with 1 Axes>"
      ]
     },
     "metadata": {},
     "output_type": "display_data"
    }
   ],
   "source": [
    "k = 21\n",
    "model = neighbors.KNeighborsClassifier(k)\n",
    "model.fit(train[['x','y']], train['class'])\n",
    "plot_predicted_2(model, data)\n",
    "plt.show()"
   ]
  },
  {
   "cell_type": "markdown",
   "metadata": {
    "slideshow": {
     "slide_type": "slide"
    }
   },
   "source": [
    "## Overfitting/Underfitting\n",
    "---\n",
    "Just like with regression, classification is sensitive to the complexity of your model.\n",
    "\n",
    "In *k*-nearest neighbor classification, you overfit by using too few neighbors, and underfit by using too many neighbors.\n",
    "\n",
    "The scikit-learn nearest neighbor model can generate a score based on the accuracy of our prediction.  Let's see our training and test curves:"
   ]
  },
  {
   "cell_type": "code",
   "execution_count": 17,
   "metadata": {
    "slideshow": {
     "slide_type": "subslide"
    }
   },
   "outputs": [
    {
     "data": {
      "image/png": "[encoded data removed]",
      "text/plain": [
       "<Figure size 432x288 with 1 Axes>"
      ]
     },
     "metadata": {},
     "output_type": "display_data"
    },
    {
     "data": {
      "text/plain": [
       "0.88"
      ]
     },
     "execution_count": 17,
     "metadata": {},
     "output_type": "execute_result"
    }
   ],
   "source": [
    "kvals = range(1,25,2)\n",
    "train_score = []\n",
    "test_score = []\n",
    "\n",
    "for k in kvals:\n",
    "    #print(k)\n",
    "    model = neighbors.KNeighborsClassifier(k)\n",
    "    model.fit(train[['x','y']], train['class'])\n",
    "    train_score.append(model.score(train[['x','y']], train['class']))\n",
    "    test_score.append(model.score(test[['x','y']], test['class']))\n",
    "    \n",
    "plt.plot(kvals, train_score, 'r-s', label='Train')\n",
    "plt.plot(kvals, test_score, 'b-o', label='Test')\n",
    "plt.legend()\n",
    "plt.show()\n",
    "max(test_score)"
   ]
  },
  {
   "cell_type": "code",
   "execution_count": 18,
   "metadata": {},
   "outputs": [
    {
     "name": "stdout",
     "output_type": "stream",
     "text": [
      "[[28  3]\n",
      " [ 5 14]]\n"
     ]
    },
    {
     "data": {
      "text/plain": [
       "0.84"
      ]
     },
     "execution_count": 18,
     "metadata": {},
     "output_type": "execute_result"
    }
   ],
   "source": [
    "conf_matrix = sk.metrics.confusion_matrix(test['class'], model.predict(test[['x','y']]))\n",
    "print(conf_matrix)\n",
    "model.score(test[['x','y']], test['class'])\n"
   ]
  },
  {
   "cell_type": "markdown",
   "metadata": {},
   "source": [
    "# Confusion about the confusion matrix\n",
    "\n",
    "It's not immediately clear which dimension of the confusion matrix is the  \n",
    "true label (class) dimension, and which is the predicted label (class).\n",
    "\n",
    "Let's figure it out...\n",
    "\n",
    "The sklearn documentation [says](https://scikit-learn.org/stable/modules/generated/sklearn.metrics.confusion_matrix.html): \"By definition a confusion matrix, C, is such that C<sub>i,j</sub> is equal to the number of observations known to be in group i and predicted to be in group j.\"\n",
    "\n",
    "So, this suggests that our ```conf_matrix[1,0]``` value is the number or 'b' (1) samples that were misclassified as 'a' (0) samples. Let's see if that's correct...\n"
   ]
  },
  {
   "cell_type": "code",
   "execution_count": 19,
   "metadata": {},
   "outputs": [
    {
     "name": "stdout",
     "output_type": "stream",
     "text": [
      "<class 'pandas.core.series.Series'>\n",
      "<class 'numpy.ndarray'>\n"
     ]
    }
   ],
   "source": [
    "true_class = test['class']\n",
    "pred_class = model.predict(test[['x','y']])\n",
    "\n",
    "# Check what the object types are, so we'll now what code we next...\n",
    "print(type(true_class))\n",
    "print(type(pred_class))"
   ]
  },
  {
   "cell_type": "code",
   "execution_count": 20,
   "metadata": {},
   "outputs": [
    {
     "name": "stdout",
     "output_type": "stream",
     "text": [
      "[False  True False  True False False False  True False False  True False\n",
      " False  True False False False False False]\n",
      "\n",
      "sklearn answer: 5\n",
      "our answer: 5\n"
     ]
    }
   ],
   "source": [
    "# Because true_class is a Series, not a DataFrame, we do this...\n",
    "bool_true_b = true_class=='b'\n",
    "# instead of something like this...\n",
    "# bool_true_b = true_class['class']=='b'\n",
    "\n",
    "bool_true_b_pred_a = pred_class[bool_true_b]=='a'\n",
    "\n",
    "print(bool_true_b_pred_a)\n",
    "\n",
    "print('')\n",
    "print('sklearn answer: {:d}'.format(conf_matrix[1,0]))\n",
    "print('our answer: {:d}'.format(np.sum(bool_true_b_pred_a)))"
   ]
  },
  {
   "cell_type": "code",
   "execution_count": 22,
   "metadata": {},
   "outputs": [
    {
     "data": {
      "image/png": "[encoded data removed]",
      "text/plain": [
       "<Figure size 540x540 with 1 Axes>"
      ]
     },
     "metadata": {},
     "output_type": "display_data"
    }
   ],
   "source": [
    "fig, ax = plt.subplots(figsize=(7.5, 7.5))\n",
    "ax.matshow(conf_matrix, cmap=plt.cm.Blues, alpha=0.3)\n",
    "for i in range(conf_matrix.shape[0]):\n",
    "    for j in range(conf_matrix.shape[1]):\n",
    "        ax.text(x=j, y=i,s=conf_matrix[i, j], va='center', ha='center', size='large')\n",
    " \n",
    "plt.xlabel('Predictions', fontsize=18)\n",
    "plt.ylabel('Actuals', fontsize=18)\n",
    "plt.title('Confusion Matrix', fontsize=18)\n",
    "plt.show()"
   ]
  },
  {
   "cell_type": "markdown",
   "metadata": {
    "slideshow": {
     "slide_type": "slide"
    }
   },
   "source": [
    "## Next Time\n",
    "---\n",
    "More classification goodness!"
   ]
  }
 ],
 "metadata": {
  "anaconda-cloud": {},
  "celltoolbar": "Slideshow",
  "kernelspec": {
   "display_name": "Python 3",
   "language": "python",
   "name": "python3"
  },
  "language_info": {
   "codemirror_mode": {
    "name": "ipython",
    "version": 3
   },
   "file_extension": ".py",
   "mimetype": "text/x-python",
   "name": "python",
   "nbconvert_exporter": "python",
   "pygments_lexer": "ipython3",
   "version": "3.6.5"
  },
  "livereveal": {
   "height": 768,
   "start_slideshow_at": "selected",
   "theme": "mines",
   "transition": "slide",
   "width": 1024
  }
 },
 "nbformat": 4,
 "nbformat_minor": 2
}
